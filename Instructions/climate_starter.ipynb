{
 "cells": [
  {
   "cell_type": "code",
   "execution_count": 2,
   "metadata": {},
   "outputs": [],
   "source": [
    "%matplotlib inline\n",
    "from matplotlib import style\n",
    "style.use('fivethirtyeight')\n",
    "import matplotlib.pyplot as plt"
   ]
  },
  {
   "cell_type": "code",
   "execution_count": 3,
   "metadata": {},
   "outputs": [],
   "source": [
    "import numpy as np\n",
    "import pandas as pd"
   ]
  },
  {
   "cell_type": "code",
   "execution_count": 4,
   "metadata": {},
   "outputs": [],
   "source": [
    "import datetime as dt"
   ]
  },
  {
   "cell_type": "markdown",
   "metadata": {},
   "source": [
    "# Reflect Tables into SQLAlchemy ORM"
   ]
  },
  {
   "cell_type": "code",
   "execution_count": 5,
   "metadata": {},
   "outputs": [],
   "source": [
    "# Python SQL toolkit and Object Relational Mapper\n",
    "import sqlalchemy\n",
    "from sqlalchemy.ext.automap import automap_base\n",
    "from sqlalchemy.orm import Session\n",
    "from sqlalchemy import create_engine, inspect, func"
   ]
  },
  {
   "cell_type": "code",
   "execution_count": 6,
   "metadata": {},
   "outputs": [],
   "source": [
    "engine = create_engine(\"sqlite:///Resources/hawaii.sqlite\")"
   ]
  },
  {
   "cell_type": "code",
   "execution_count": 7,
   "metadata": {},
   "outputs": [],
   "source": [
    "# reflect an existing database into a new model\n",
    "Base= automap_base()\n",
    "# reflect the tables\n",
    "Base.prepare(engine, reflect=True)"
   ]
  },
  {
   "cell_type": "code",
   "execution_count": 8,
   "metadata": {},
   "outputs": [
    {
     "data": {
      "text/plain": [
       "['measurement', 'station']"
      ]
     },
     "execution_count": 8,
     "metadata": {},
     "output_type": "execute_result"
    }
   ],
   "source": [
    "# We can view all of the classes that automap found\n",
    "Base.classes.keys()"
   ]
  },
  {
   "cell_type": "code",
   "execution_count": 9,
   "metadata": {},
   "outputs": [],
   "source": [
    "# Save references to each table\n",
    "Meas = Base.classes.measurement\n",
    "Station = Base.classes.station"
   ]
  },
  {
   "cell_type": "code",
   "execution_count": 10,
   "metadata": {},
   "outputs": [
    {
     "name": "stdout",
     "output_type": "stream",
     "text": [
      "id\n",
      "station\n",
      "date\n",
      "prcp\n",
      "tobs\n"
     ]
    }
   ],
   "source": [
    "# Create our session (link) from Python to the DB\n",
    "session = Session(engine)\n",
    "inspector = inspect(engine)\n",
    "\n",
    "columns = inspector.get_columns('measurement')\n",
    "for c in columns:\n",
    "    print(c['name'])"
   ]
  },
  {
   "cell_type": "markdown",
   "metadata": {},
   "source": [
    "# Exploratory Climate Analysis"
   ]
  },
  {
   "cell_type": "code",
   "execution_count": 11,
   "metadata": {},
   "outputs": [
    {
     "name": "stdout",
     "output_type": "stream",
     "text": [
      "2016-08-23\n"
     ]
    },
    {
     "data": {
      "image/png": "[encoded data removed]",
      "text/plain": [
       "<Figure size 432x288 with 1 Axes>"
      ]
     },
     "metadata": {},
     "output_type": "display_data"
    }
   ],
   "source": [
    "# Design a query to retrieve the last 12 months of precipitation data and plot the results\n",
    "# Calculate the date 1 year ago from the last data point in the database\n",
    "\n",
    "session.query(Meas.date).order_by(Meas.date.desc()).first()\n",
    "year_ago = dt.date(2017, 8, 23) - dt.timedelta(days=365)\n",
    "print(year_ago)\n",
    "\n",
    "# Perform a query to retrieve the data and precipitation scores\n",
    "\n",
    "sel = [Meas.date,\n",
    "      func.avg(Meas.prcp)]\n",
    "prcp_prev = session.query(*sel).\\\n",
    "    filter((Meas.date)>= year_ago).\\\n",
    "    group_by(func.strftime(\"%Y-%m\",Meas.date)).all()\n",
    "prcp_prev\n",
    "# Save the query results as a Pandas DataFrame and set the index to the date column\n",
    "\n",
    "df = pd.DataFrame(prcp_prev, columns = ['date', 'avg_prcp_per_month'])\n",
    "\n",
    "# Sort the dataframe by date\n",
    "\n",
    "df.sort_values('date')\n",
    "\n",
    "# Use Pandas Plotting with Matplotlib to plot the data\n",
    "\n",
    "df.plot.bar()\n",
    "plt.show()\n"
   ]
  },
  {
   "cell_type": "code",
   "execution_count": 12,
   "metadata": {},
   "outputs": [
    {
     "data": {
      "text/html": [
       "<div>\n",
       "<style scoped>\n",
       "    .dataframe tbody tr th:only-of-type {\n",
       "        vertical-align: middle;\n",
       "    }\n",
       "\n",
       "    .dataframe tbody tr th {\n",
       "        vertical-align: top;\n",
       "    }\n",
       "\n",
       "    .dataframe thead th {\n",
       "        text-align: right;\n",
       "    }\n",
       "</style>\n",
       "<table border=\"1\" class=\"dataframe\">\n",
       "  <thead>\n",
       "    <tr style=\"text-align: right;\">\n",
       "      <th></th>\n",
       "      <th>avg_prcp_per_month</th>\n",
       "    </tr>\n",
       "  </thead>\n",
       "  <tbody>\n",
       "    <tr>\n",
       "      <th>count</th>\n",
       "      <td>13.000000</td>\n",
       "    </tr>\n",
       "    <tr>\n",
       "      <th>mean</th>\n",
       "      <td>0.184412</td>\n",
       "    </tr>\n",
       "    <tr>\n",
       "      <th>std</th>\n",
       "      <td>0.099626</td>\n",
       "    </tr>\n",
       "    <tr>\n",
       "      <th>min</th>\n",
       "      <td>0.063951</td>\n",
       "    </tr>\n",
       "    <tr>\n",
       "      <th>25%</th>\n",
       "      <td>0.120234</td>\n",
       "    </tr>\n",
       "    <tr>\n",
       "      <th>50%</th>\n",
       "      <td>0.151317</td>\n",
       "    </tr>\n",
       "    <tr>\n",
       "      <th>75%</th>\n",
       "      <td>0.241111</td>\n",
       "    </tr>\n",
       "    <tr>\n",
       "      <th>max</th>\n",
       "      <td>0.392642</td>\n",
       "    </tr>\n",
       "  </tbody>\n",
       "</table>\n",
       "</div>"
      ],
      "text/plain": [
       "       avg_prcp_per_month\n",
       "count           13.000000\n",
       "mean             0.184412\n",
       "std              0.099626\n",
       "min              0.063951\n",
       "25%              0.120234\n",
       "50%              0.151317\n",
       "75%              0.241111\n",
       "max              0.392642"
      ]
     },
     "execution_count": 12,
     "metadata": {},
     "output_type": "execute_result"
    }
   ],
   "source": [
    "# Use Pandas to calcualte the summary statistics for the precipitation data\n",
    "df.describe()"
   ]
  },
  {
   "cell_type": "code",
   "execution_count": 13,
   "metadata": {},
   "outputs": [
    {
     "name": "stdout",
     "output_type": "stream",
     "text": [
      "id\n",
      "station\n",
      "name\n",
      "latitude\n",
      "longitude\n",
      "elevation\n"
     ]
    }
   ],
   "source": [
    "columns = inspector.get_columns('station')\n",
    "for c in columns:\n",
    "    print(c['name'])"
   ]
  },
  {
   "cell_type": "code",
   "execution_count": 14,
   "metadata": {},
   "outputs": [
    {
     "data": {
      "text/plain": [
       "[(9)]"
      ]
     },
     "execution_count": 14,
     "metadata": {},
     "output_type": "execute_result"
    }
   ],
   "source": [
    "# Design a query to show how many stations are available in this dataset?\n",
    "\n",
    "session.query(func.count(Station.station)).all()"
   ]
  },
  {
   "cell_type": "code",
   "execution_count": 15,
   "metadata": {},
   "outputs": [
    {
     "data": {
      "text/plain": [
       "[(2772, 'USC00519281', 'WAIHEE 837.5, HI US'),\n",
       " (2724, 'USC00519397', 'WAIKIKI 717.2, HI US'),\n",
       " (2709, 'USC00513117', 'KANEOHE 838.1, HI US'),\n",
       " (2669, 'USC00519523', 'WAIMANALO EXPERIMENTAL FARM, HI US'),\n",
       " (2612, 'USC00516128', 'MANOA LYON ARBO 785.2, HI US'),\n",
       " (2202, 'USC00514830', 'KUALOA RANCH HEADQUARTERS 886.9, HI US'),\n",
       " (1979, 'USC00511918', 'HONOLULU OBSERVATORY 702.2, HI US'),\n",
       " (1372, 'USC00517948', 'PEARL CITY, HI US'),\n",
       " (511, 'USC00518838', 'UPPER WAHIAWA 874.3, HI US')]"
      ]
     },
     "execution_count": 15,
     "metadata": {},
     "output_type": "execute_result"
    }
   ],
   "source": [
    "# What are the most active stations? (i.e. what stations have the most rows)?\n",
    "# List the stations and the counts in descending order.\n",
    "\n",
    "session.execute(\"SELECT COUNT(s.name), s.station, s.name FROM station AS s LEFT JOIN measurement AS m ON m.station = s.station GROUP BY name ORDER BY COUNT(s.name) DESC\").fetchall()"
   ]
  },
  {
   "cell_type": "code",
   "execution_count": 16,
   "metadata": {},
   "outputs": [
    {
     "name": "stdout",
     "output_type": "stream",
     "text": [
      "Low Temp: [(53.0, 'USC00519281', 'WAIHEE 837.5, HI US')]\n",
      "High Temp: [(87.0, 'USC00519281', 'WAIHEE 837.5, HI US')]\n",
      "Avg Temp: [(73.09795396419437, 'USC00519281', 'WAIHEE 837.5, HI US')]\n"
     ]
    }
   ],
   "source": [
    "# Using the station id from the previous query, calculate the lowest temperature recorded, \n",
    "# highest temperature recorded, and average temperature of the most active station?\n",
    "\n",
    "#lowest temp\n",
    "low = session.query(Meas.tobs, Station.station, Station.name).\\\n",
    "                filter(Station.station == 'USC00519281').\\\n",
    "                order_by(Meas.tobs.asc()).limit(1).all()\n",
    "print(f\"Low Temp: {low}\")\n",
    "\n",
    "#Highest temp\n",
    "high = session.query(Meas.tobs, Station.station, Station.name).\\\n",
    "                filter(Station.station == 'USC00519281').\\\n",
    "                order_by(Meas.tobs.desc()).limit(1).all()\n",
    "print(f\"High Temp: {high}\")\n",
    "\n",
    "#Average temp\n",
    "avg = session.query(func.avg(Meas.tobs), Station.station, Station.name).\\\n",
    "                filter(Station.station == 'USC00519281').all()\n",
    "print(f\"Avg Temp: {avg}\")"
   ]
  },
  {
   "cell_type": "code",
   "execution_count": 17,
   "metadata": {},
   "outputs": [
    {
     "data": {
      "text/plain": [
       "Text(0, 0.5, 'Temperature')"
      ]
     },
     "execution_count": 17,
     "metadata": {},
     "output_type": "execute_result"
    },
    {
     "data": {
      "image/png": "[encoded data removed]",
      "text/plain": [
       "<Figure size 432x288 with 1 Axes>"
      ]
     },
     "metadata": {},
     "output_type": "display_data"
    }
   ],
   "source": [
    "# Choose the station with the highest number of temperature observations.\n",
    "# Query the last 12 months of temperature observation data for this station and plot the results as a histogram\n",
    "\n",
    "session.execute(\"SELECT COUNT(m.tobs), s.station, s.name FROM station AS s LEFT JOIN measurement AS m ON m.station = s.station GROUP BY name ORDER BY COUNT(s.name) DESC\").fetchall()\n",
    "\n",
    "sel = [Meas.date,\n",
    "      func.avg(Meas.tobs)]\n",
    "tobs_prev = session.query(*sel).\\\n",
    "    filter((Meas.date)>= year_ago).\\\n",
    "    group_by(func.strftime(\"%Y-%m\",Meas.date)).all()\n",
    "tobs_prev\n",
    "\n",
    "tobs_df = pd.DataFrame(tobs_prev, columns = ['date', 'tobs'])\n",
    "tobs_df\n",
    "\n",
    "x_axis = [value for value in tobs_df['date']]\n",
    "\n",
    "y_axis = [value for value in round(tobs_df['tobs'],1)]\n",
    "x_axis\n",
    "plt.bar(x_axis, y_axis, color = 'red', alpha = 1, align = 'center',)\n",
    "plt.xticks(rotation=80)\n",
    "plt.title(\"Average Temp Over Last 12 Months\")\n",
    "plt.xlabel('Date')\n",
    "plt.ylabel('Temperature')\n",
    "\n",
    "\n"
   ]
  },
  {
   "cell_type": "code",
   "execution_count": 18,
   "metadata": {},
   "outputs": [],
   "source": [
    "from flask import Flask, jsonify"
   ]
  },
  {
   "cell_type": "code",
   "execution_count": null,
   "metadata": {},
   "outputs": [],
   "source": []
  },
  {
   "cell_type": "markdown",
   "metadata": {},
   "source": [
    "## Bonus Challenge Assignment"
   ]
  },
  {
   "cell_type": "code",
   "execution_count": 19,
   "metadata": {},
   "outputs": [
    {
     "name": "stdout",
     "output_type": "stream",
     "text": [
      "[(62.0, 69.57142857142857, 74.0)]\n"
     ]
    }
   ],
   "source": [
    "# This function called `calc_temps` will accept start date and end date in the format '%Y-%m-%d' \n",
    "# and return the minimum, average, and maximum temperatures for that range of dates\n",
    "def calc_temps(start_date, end_date):\n",
    "    \"\"\"TMIN, TAVG, and TMAX for a list of dates.\n",
    "    \n",
    "    Args:\n",
    "        start_date (string): A date string in the format %Y-%m-%d\n",
    "        end_date (string): A date string in the format %Y-%m-%d\n",
    "        \n",
    "    Returns:\n",
    "        TMIN, TAVE, and TMAX\n",
    "    \"\"\"\n",
    "    \n",
    "    return session.query(func.min(Meas.tobs), func.avg(Meas.tobs), func.max(Meas.tobs)).\\\n",
    "        filter(Meas.date >= start_date).filter(Meas.date <= end_date).all()\n",
    "\n",
    "# function usage example\n",
    "print(calc_temps('2012-02-28', '2012-03-05'))"
   ]
  },
  {
   "cell_type": "code",
   "execution_count": 20,
   "metadata": {},
   "outputs": [
    {
     "name": "stdout",
     "output_type": "stream",
     "text": [
      "[(62.0, 69.88636363636364, 80.0)]\n"
     ]
    }
   ],
   "source": [
    "# Use your previous function `calc_temps` to calculate the tmin, tavg, and tmax \n",
    "# for your trip using the previous year's data for those same dates.\n",
    "\n",
    "print(calc_temps('2016-02-28','2016-03-05'))"
   ]
  },
  {
   "cell_type": "code",
   "execution_count": 204,
   "metadata": {},
   "outputs": [
    {
     "data": {
      "text/plain": [
       "<AxesSubplot:title={'center':'Trip Avg Temp'}, xlabel='Trip Dates', ylabel='Temperature'>"
      ]
     },
     "execution_count": 204,
     "metadata": {},
     "output_type": "execute_result"
    },
    {
     "data": {
      "image/png": "[encoded data removed]",
      "text/plain": [
       "<Figure size 432x288 with 1 Axes>"
      ]
     },
     "metadata": {},
     "output_type": "display_data"
    }
   ],
   "source": [
    "# Plot the results from your previous query as a bar chart. \n",
    "# Use \"Trip Avg Temp\" as your Title\n",
    "# Use the average temperature for the y value\n",
    "# Use the peak-to-peak (tmax-tmin) value as the y error bar (yerr)\n",
    "\n",
    "def yerr(start_date, end_date):\n",
    "    return session.query(func.max(Meas.tobs)-func.min(Meas.tobs)).\\\n",
    "        filter(Meas.date >= start_date).filter(Meas.date <= end_date).all()\n",
    "\n",
    "y_err = yerr('2016-02-28','2016-03-05')\n",
    "\n",
    "y_value = calc_temps('2016-02-28','2016-03-05')\n",
    "\n",
    "y_values_df = pd.DataFrame(y_value, columns = ['min_temp', 'avg_temp', 'max_temp'])\n",
    "y_values_df\n",
    "avg_temp_df = y_values_df['avg_temp']\n",
    "avg_temp_df.plot.bar(yerr = y_err, ylabel = 'Temperature', xlabel = 'Trip Dates', title = 'Trip Avg Temp', color = 'blue', align = 'center')\n",
    "\n",
    "\n",
    "\n",
    "\n"
   ]
  },
  {
   "cell_type": "code",
   "execution_count": 76,
   "metadata": {},
   "outputs": [
    {
     "data": {
      "text/plain": [
       "[(0.33, 'USC00519523', 'WAIMANALO EXPERIMENTAL FARM, HI US', 21.33556, -157.71139, 19.5),\n",
       " (0.0, 'USC00519397', 'WAIKIKI 717.2, HI US', 21.2716, -157.8168, 3.0),\n",
       " (0.01, 'USC00519281', 'WAIHEE 837.5, HI US', 21.45167, -157.84888999999998, 32.9),\n",
       " (0.02, 'USC00516128', 'MANOA LYON ARBO 785.2, HI US', 21.3331, -157.8025, 152.4),\n",
       " (0.12000000000000001, 'USC00514830', 'KUALOA RANCH HEADQUARTERS 886.9, HI US', 21.5213, -157.8374, 7.0),\n",
       " (0.0, 'USC00513117', 'KANEOHE 838.1, HI US', 21.4234, -157.8015, 14.6),\n",
       " (None, 'USC00517948', 'PEARL CITY, HI US', 21.3934, -157.9751, 11.9)]"
      ]
     },
     "execution_count": 76,
     "metadata": {},
     "output_type": "execute_result"
    }
   ],
   "source": [
    "# Calculate the total amount of rainfall per weather station for your trip dates using the previous year's matching dates.\n",
    "# Sort this in descending order by precipitation amount and list the station, name, latitude, longitude, and elevation\n",
    "\n",
    "prcp_query = session.execute(\"SELECT SUM(m.prcp), s.station, s.name, s.latitude, s.longitude, s.elevation FROM station AS s LEFT JOIN measurement AS m ON m.station = s.station WHERE m.date >= '2016-02-28' AND m.date <= '2016-03-05' GROUP BY s.station ORDER BY m.prcp DESC\").fetchall()\n",
    "prcp_query\n"
   ]
  },
  {
   "cell_type": "code",
   "execution_count": 64,
   "metadata": {},
   "outputs": [
    {
     "data": {
      "text/plain": [
       "[(62.0, 69.15384615384616, 77.0)]"
      ]
     },
     "execution_count": 64,
     "metadata": {},
     "output_type": "execute_result"
    }
   ],
   "source": [
    "# Create a query that will calculate the daily normals \n",
    "# (i.e. the averages for tmin, tmax, and tavg for all historic data matching a specific month and day)\n",
    "\n",
    "def daily_normals(date):\n",
    "    \"\"\"Daily Normals.\n",
    "    \n",
    "    Args:\n",
    "        date (str): A date string in the format '%m-%d'\n",
    "        \n",
    "    Returns:\n",
    "        A list of tuples containing the daily normals, tmin, tavg, and tmax\n",
    "    \n",
    "    \"\"\"\n",
    "    \n",
    "    sel = [func.min(Meas.tobs), func.avg(Meas.tobs), func.max(Meas.tobs)]\n",
    "    return session.query(*sel).filter(func.strftime(\"%m-%d\", Meas.date) == date).all()\n",
    "    \n",
    "daily_normals(\"01-01\")\n"
   ]
  },
  {
   "cell_type": "code",
   "execution_count": 139,
   "metadata": {},
   "outputs": [
    {
     "name": "stdout",
     "output_type": "stream",
     "text": [
      "['02-28', '03-01', '03-02', '03-03', '03-04', '03-05']\n"
     ]
    },
    {
     "data": {
      "text/plain": [
       "[[(65.0, 70.65517241379311, 80.0)],\n",
       " [(64.0, 70.0327868852459, 76.0)],\n",
       " [(61.0, 70.36666666666666, 78.0)],\n",
       " [(60.0, 70.06896551724138, 78.0)],\n",
       " [(57.0, 69.27272727272727, 77.0)],\n",
       " [(60.0, 67.89090909090909, 76.0)]]"
      ]
     },
     "execution_count": 139,
     "metadata": {},
     "output_type": "execute_result"
    }
   ],
   "source": [
    "# calculate the daily normals for your trip\n",
    "# push each tuple of calculations into a list called `normals`\n",
    "# Set the start and end date of the trip\n",
    "# Use the start and end date to create a range of dates\n",
    "# Stip off the year and save a list of %m-%d strings\n",
    "# Loop through the list of %m-%d strings and calculate the normals for each date\n",
    "normals = []\n",
    "date = []\n",
    "\n",
    "start_date = dt.date(2017,2,28)\n",
    "end_date = dt.date(2017,3,5)\n",
    "date_range = pd.date_range(start_date,end_date)\n",
    "\n",
    "for dates in date_range:\n",
    "    date.append(dates.strftime(\"%m-%d\"))\n",
    "print(date)\n",
    "\n",
    "\n",
    "for dates in date:\n",
    "    normals.append(daily_normals(dates))\n",
    "normals    \n"
   ]
  },
  {
   "cell_type": "code",
   "execution_count": 163,
   "metadata": {},
   "outputs": [
    {
     "data": {
      "text/html": [
       "<div>\n",
       "<style scoped>\n",
       "    .dataframe tbody tr th:only-of-type {\n",
       "        vertical-align: middle;\n",
       "    }\n",
       "\n",
       "    .dataframe tbody tr th {\n",
       "        vertical-align: top;\n",
       "    }\n",
       "\n",
       "    .dataframe thead th {\n",
       "        text-align: right;\n",
       "    }\n",
       "</style>\n",
       "<table border=\"1\" class=\"dataframe\">\n",
       "  <thead>\n",
       "    <tr style=\"text-align: right;\">\n",
       "      <th></th>\n",
       "      <th>date</th>\n",
       "      <th>min_temp</th>\n",
       "      <th>avg_temp</th>\n",
       "      <th>max_temp</th>\n",
       "    </tr>\n",
       "  </thead>\n",
       "  <tbody>\n",
       "    <tr>\n",
       "      <th>0</th>\n",
       "      <td>02-28</td>\n",
       "      <td>65.0</td>\n",
       "      <td>70.655172</td>\n",
       "      <td>80.0</td>\n",
       "    </tr>\n",
       "    <tr>\n",
       "      <th>1</th>\n",
       "      <td>03-01</td>\n",
       "      <td>64.0</td>\n",
       "      <td>70.032787</td>\n",
       "      <td>76.0</td>\n",
       "    </tr>\n",
       "    <tr>\n",
       "      <th>2</th>\n",
       "      <td>03-02</td>\n",
       "      <td>61.0</td>\n",
       "      <td>70.366667</td>\n",
       "      <td>78.0</td>\n",
       "    </tr>\n",
       "    <tr>\n",
       "      <th>3</th>\n",
       "      <td>03-03</td>\n",
       "      <td>60.0</td>\n",
       "      <td>70.068966</td>\n",
       "      <td>78.0</td>\n",
       "    </tr>\n",
       "    <tr>\n",
       "      <th>4</th>\n",
       "      <td>03-04</td>\n",
       "      <td>57.0</td>\n",
       "      <td>69.272727</td>\n",
       "      <td>77.0</td>\n",
       "    </tr>\n",
       "    <tr>\n",
       "      <th>5</th>\n",
       "      <td>03-05</td>\n",
       "      <td>60.0</td>\n",
       "      <td>67.890909</td>\n",
       "      <td>76.0</td>\n",
       "    </tr>\n",
       "  </tbody>\n",
       "</table>\n",
       "</div>"
      ],
      "text/plain": [
       "    date  min_temp   avg_temp  max_temp\n",
       "0  02-28      65.0  70.655172      80.0\n",
       "1  03-01      64.0  70.032787      76.0\n",
       "2  03-02      61.0  70.366667      78.0\n",
       "3  03-03      60.0  70.068966      78.0\n",
       "4  03-04      57.0  69.272727      77.0\n",
       "5  03-05      60.0  67.890909      76.0"
      ]
     },
     "execution_count": 163,
     "metadata": {},
     "output_type": "execute_result"
    }
   ],
   "source": [
    "# Load the previous query results into a Pandas DataFrame and add the `trip_dates` range as the `date` index\n",
    "dates_df = pd.DataFrame(date, columns = ['date'])\n",
    "dates_df\n",
    "\n",
    "\n",
    "\n",
    "    \n",
    "\n",
    "normals_temp = [normal[0] for normal in normals]\n",
    "normals_temp\n",
    "normals_df = pd.DataFrame(normals_temp, columns = ['min_temp','avg_temp', 'max_temp'])\n",
    "normals_df\n",
    "daily_norms_df = pd.concat([dates_df, normals_df], axis = 1)\n",
    "daily_norms_df"
   ]
  },
  {
   "cell_type": "code",
   "execution_count": 151,
   "metadata": {},
   "outputs": [
    {
     "name": "stderr",
     "output_type": "stream",
     "text": [
      "/Applications/anaconda3/envs/PythonData/lib/python3.8/site-packages/pandas/plotting/_matplotlib/core.py:1235: UserWarning: FixedFormatter should only be used together with FixedLocator\n",
      "  ax.set_xticklabels(xticklabels)\n"
     ]
    },
    {
     "data": {
      "text/plain": [
       "<AxesSubplot:xlabel='date', ylabel='Temperature'>"
      ]
     },
     "execution_count": 151,
     "metadata": {},
     "output_type": "execute_result"
    },
    {
     "data": {
      "image/png": "[encoded data removed]",
      "text/plain": [
       "<Figure size 432x288 with 1 Axes>"
      ]
     },
     "metadata": {},
     "output_type": "display_data"
    }
   ],
   "source": [
    "# Plot the daily normals as an area plot with `stacked=False`\n",
    "#daily_norms_df.plot.area(stacked=False)\n",
    "daily_norms_df.plot.area(x='date',stacked = False, ylabel = 'Temperature')\n"
   ]
  },
  {
   "cell_type": "code",
   "execution_count": null,
   "metadata": {},
   "outputs": [],
   "source": []
  }
 ],
 "metadata": {
  "kernel_info": {
   "name": "python3"
  },
  "kernelspec": {
   "display_name": "Python [conda env:PythonData] *",
   "language": "python",
   "name": "conda-env-PythonData-py"
  },
  "language_info": {
   "codemirror_mode": {
    "name": "ipython",
    "version": 3
   },
   "file_extension": ".py",
   "mimetype": "text/x-python",
   "name": "python",
   "nbconvert_exporter": "python",
   "pygments_lexer": "ipython3",
   "version": "3.8.5"
  },
  "nteract": {
   "version": "0.12.3"
  },
  "varInspector": {
   "cols": {
    "lenName": 16,
    "lenType": 16,
    "lenVar": 40
   },
   "kernels_config": {
    "python": {
     "delete_cmd_postfix": "",
     "delete_cmd_prefix": "del ",
     "library": "var_list.py",
     "varRefreshCmd": "print(var_dic_list())"
    },
    "r": {
     "delete_cmd_postfix": ") ",
     "delete_cmd_prefix": "rm(",
     "library": "var_list.r",
     "varRefreshCmd": "cat(var_dic_list()) "
    }
   },
   "types_to_exclude": [
    "module",
    "function",
    "builtin_function_or_method",
    "instance",
    "_Feature"
   ],
   "window_display": false
  }
 },
 "nbformat": 4,
 "nbformat_minor": 2
}
